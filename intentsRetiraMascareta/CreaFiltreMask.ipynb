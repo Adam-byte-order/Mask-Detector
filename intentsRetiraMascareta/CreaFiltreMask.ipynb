{
 "cells": [
  {
   "cell_type": "code",
   "execution_count": 1,
   "id": "235fc0af",
   "metadata": {},
   "outputs": [],
   "source": [
    "import cv2\n",
    "import os\n",
    "from matplotlib.pyplot import imshow\n",
    "import numpy as np\n",
    "import re\n",
    "from tqdm.notebook import tqdm"
   ]
  },
  {
   "cell_type": "code",
   "execution_count": 2,
   "id": "341a6554",
   "metadata": {},
   "outputs": [],
   "source": [
    "P1 = 'C:/Users/ger-m/Desktop/UNI/3r/Visio/projecte/imagesVC/allImagesNoMask/train/'\n",
    "P2 = 'C:/Users/ger-m/Desktop/UNI/3r/Visio/projecte/imagesVC/allImagesMask/train/'\n",
    "l1 = os.listdir(P1)\n",
    "l2 = os.listdir(P2)\n",
    "a = cv2.imread(P1 + l1[0])\n",
    "b = cv2.imread(P2 + l2[0])"
   ]
  },
  {
   "cell_type": "code",
   "execution_count": 3,
   "id": "163e3775",
   "metadata": {},
   "outputs": [
    {
     "data": {
      "application/vnd.jupyter.widget-view+json": {
       "model_id": "a0037fde40cd4c6d9df8f517fa48e34e",
       "version_major": 2,
       "version_minor": 0
      },
      "text/plain": [
       "  0%|          | 0/11371 [00:00<?, ?it/s]"
      ]
     },
     "metadata": {},
     "output_type": "display_data"
    }
   ],
   "source": [
    "os.mkdir('Dataset')\n",
    "os.chdir('Dataset')\n",
    "kernel = np.ones((2,2))\n",
    "for el in tqdm(l1):\n",
    "    name = re.sub('.jpg','', el)\n",
    "    mask = cv2.imread(P2 + name + '-with-mask.jpg', cv2.IMREAD_GRAYSCALE)\n",
    "    mask = cv2.threshold(mask, 230, 255, cv2.THRESH_BINARY)[1]\n",
    "    nmask = cv2.imread(P1 + el, cv2.IMREAD_GRAYSCALE)\n",
    "    nmask = cv2.threshold(nmask, 230, 255, cv2.THRESH_BINARY)[1]\n",
    "    \n",
    "    f = mask - nmask\n",
    "    \n",
    "    f = cv2.morphologyEx(f, cv2.MORPH_OPEN, kernel, iterations = 3)\n",
    "    f = cv2.morphologyEx(f, cv2.MORPH_CLOSE, kernel, iterations = 3)\n",
    "    \n",
    "    cv2.imwrite(name + '_filter.jpg', f)\n",
    "os.chdir('..')"
   ]
  },
  {
   "cell_type": "code",
   "execution_count": null,
   "id": "5e21baff",
   "metadata": {},
   "outputs": [],
   "source": []
  }
 ],
 "metadata": {
  "kernelspec": {
   "display_name": "Python 3",
   "language": "python",
   "name": "python3"
  },
  "language_info": {
   "codemirror_mode": {
    "name": "ipython",
    "version": 3
   },
   "file_extension": ".py",
   "mimetype": "text/x-python",
   "name": "python",
   "nbconvert_exporter": "python",
   "pygments_lexer": "ipython3",
   "version": "3.8.5"
  }
 },
 "nbformat": 4,
 "nbformat_minor": 5
}
